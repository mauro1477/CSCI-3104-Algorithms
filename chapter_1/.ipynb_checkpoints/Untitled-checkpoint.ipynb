{
 "cells": [
  {
   "cell_type": "code",
   "execution_count": 38,
   "metadata": {},
   "outputs": [
    {
     "name": "stdout",
     "output_type": "stream",
     "text": [
      "[1, 2, 3, 4, 5, 6]\n"
     ]
    }
   ],
   "source": [
    "#INSERTION SORT                  cost     time\n",
    "A = [5,2,4,6,1,3]\n",
    "#print(A)\n",
    "\n",
    "j = 2\n",
    "for j in range(len(A)):         #c_1       n\n",
    "    key = A[j]                  #c_2       n-1\n",
    "                                #0         n-1\n",
    "    i = j - 1                   #c_4       n-1\n",
    "    while i >= 0 and A[i] > key:\n",
    "        A[i+1] = A[i]\n",
    "        i = i - 1\n",
    "        A[i + 1] = key\n",
    "        \n",
    "print(A)\n",
    "        \n",
    "    "
   ]
  },
  {
   "cell_type": "code",
   "execution_count": 37,
   "metadata": {},
   "outputs": [
    {
     "name": "stdout",
     "output_type": "stream",
     "text": [
      "[6, 5, 4, 3, 2, 1]\n"
     ]
    }
   ],
   "source": [
    "#INSERTION SORT\n",
    "A = [5,2,4,6,1,3]\n",
    "j = 1\n",
    "for j in range(len(A)): \n",
    "    #print(j)\n",
    "    key = A[j] \n",
    "    i = j - 1 \n",
    "    while i >= 0 and A[i] <= key:\n",
    "        A[i+1] = A[i] \n",
    "        i = i - 1 \n",
    "        A[i + 1] = key \n",
    "        \n",
    "print(A)"
   ]
  },
  {
   "cell_type": "code",
   "execution_count": null,
   "metadata": {},
   "outputs": [],
   "source": []
  },
  {
   "cell_type": "code",
   "execution_count": null,
   "metadata": {},
   "outputs": [],
   "source": []
  },
  {
   "cell_type": "code",
   "execution_count": null,
   "metadata": {},
   "outputs": [],
   "source": []
  }
 ],
 "metadata": {
  "kernelspec": {
   "display_name": "Python 3",
   "language": "python",
   "name": "python3"
  },
  "language_info": {
   "codemirror_mode": {
    "name": "ipython",
    "version": 3
   },
   "file_extension": ".py",
   "mimetype": "text/x-python",
   "name": "python",
   "nbconvert_exporter": "python",
   "pygments_lexer": "ipython3",
   "version": "3.7.3"
  }
 },
 "nbformat": 4,
 "nbformat_minor": 2
}
