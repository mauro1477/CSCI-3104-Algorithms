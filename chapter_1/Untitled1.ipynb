{
 "cells": [
  {
   "cell_type": "code",
   "execution_count": 6,
   "metadata": {},
   "outputs": [],
   "source": [
    "import pandas as pd\n",
    "import numpy as np\n",
    "import matplotlib.pylab as plt\n",
    "%matplotlib inline"
   ]
  },
  {
   "cell_type": "code",
   "execution_count": 30,
   "metadata": {},
   "outputs": [
    {
     "name": "stdout",
     "output_type": "stream",
     "text": [
      "[[ 3  4  2  2  2  2]\n",
      " [ 4  5  2  4  3  3]\n",
      " [ 5  5  5  5  5  5]\n",
      " [ 6  6  5  5  6  5]\n",
      " [ 6  6  6  5  6  6]\n",
      " [ 7  7  6  6  7  6]\n",
      " [ 7  7  6  7  7  7]\n",
      " [ 9  9 11 10  8 11]]\n",
      "[[ 3  4  5  6  6  7  7  9]\n",
      " [ 4  5  5  6  6  7  7  9]\n",
      " [ 2  2  5  5  6  6  6 11]\n",
      " [ 2  4  5  5  5  6  7 10]\n",
      " [ 2  3  5  6  6  7  7  8]\n",
      " [ 2  3  5  5  6  6  7 11]]\n"
     ]
    }
   ],
   "source": [
    "box_array = [[3, 4, 5, 6, 6, 7, 7, 9], [4, 5, 5, 6, 6, 7, 7, 9 ], [2, 2, 5, 5, 6, 6, 6, 11], [2, 4, 5, 5, 5, 6, 7, 10], [2, 3, 5, 6, 6, 7, 7, 8], [2, 3, 5, 5, 6, 6, 7, 11]]\n",
    "a = np.array(box_array)\n",
    "np.shape(a)\n",
    "# Out[5]: (3, 2)\n",
    "\n",
    "a_trans = a.transpose()\n",
    "print(a_trans)\n",
    "df = pd.DataFrame(a_trans)\n",
    "# In [8]: np.shape(a_trans)\n",
    "# Out[8]: (2, 3)\n",
    "# In [7]: a_trans\n",
    "# Out[7]: \n",
    "# array([[1, 3, 5],\n",
    "#        [2, 4, 6]])\n",
    "\n",
    "\n",
    "# a = np.array(array)[np.newaxis]\n",
    "# df = pd.DataFrame(a)\n",
    "# df\n",
    "print(a)\n",
    "# df = pd.DataFrame(array)\n",
    "# boxplot = df.boxplot()\n",
    "# boxplot = df.boxplot(row = [\"\"])\n",
    "# for i in range(0,6):\n",
    "#     array.append()\n",
    "\n",
    "# df = pd.DataFrame(np.array([[3, 4, 5, 6, 6, 7, 7, 9], [4, 5, 5, 6, 6, 7, 7, 9 ], [2, 2, 5, 5, 6, 6, 6, 11], [2, 4, 5, 5, 5, 6, 7, 10], [2, 3, 5, 6, 6, 7, 7, 8], [2, 3, 5, 5, 6, 6, 7, 11]])"
   ]
  },
  {
   "cell_type": "code",
   "execution_count": 11,
   "metadata": {},
   "outputs": [
    {
     "data": {
      "text/html": [
       "<div>\n",
       "<style scoped>\n",
       "    .dataframe tbody tr th:only-of-type {\n",
       "        vertical-align: middle;\n",
       "    }\n",
       "\n",
       "    .dataframe tbody tr th {\n",
       "        vertical-align: top;\n",
       "    }\n",
       "\n",
       "    .dataframe thead th {\n",
       "        text-align: right;\n",
       "    }\n",
       "</style>\n",
       "<table border=\"1\" class=\"dataframe\">\n",
       "  <thead>\n",
       "    <tr style=\"text-align: right;\">\n",
       "      <th></th>\n",
       "      <th>Col1</th>\n",
       "      <th>Col2</th>\n",
       "      <th>Col3</th>\n",
       "      <th>Col4</th>\n",
       "    </tr>\n",
       "  </thead>\n",
       "  <tbody>\n",
       "    <tr>\n",
       "      <th>0</th>\n",
       "      <td>0.471435</td>\n",
       "      <td>-1.190976</td>\n",
       "      <td>1.432707</td>\n",
       "      <td>-0.312652</td>\n",
       "    </tr>\n",
       "    <tr>\n",
       "      <th>1</th>\n",
       "      <td>-0.720589</td>\n",
       "      <td>0.887163</td>\n",
       "      <td>0.859588</td>\n",
       "      <td>-0.636524</td>\n",
       "    </tr>\n",
       "    <tr>\n",
       "      <th>2</th>\n",
       "      <td>0.015696</td>\n",
       "      <td>-2.242685</td>\n",
       "      <td>1.150036</td>\n",
       "      <td>0.991946</td>\n",
       "    </tr>\n",
       "    <tr>\n",
       "      <th>3</th>\n",
       "      <td>0.953324</td>\n",
       "      <td>-2.021255</td>\n",
       "      <td>-0.334077</td>\n",
       "      <td>0.002118</td>\n",
       "    </tr>\n",
       "    <tr>\n",
       "      <th>4</th>\n",
       "      <td>0.405453</td>\n",
       "      <td>0.289092</td>\n",
       "      <td>1.321158</td>\n",
       "      <td>-1.546906</td>\n",
       "    </tr>\n",
       "    <tr>\n",
       "      <th>5</th>\n",
       "      <td>-0.202646</td>\n",
       "      <td>-0.655969</td>\n",
       "      <td>0.193421</td>\n",
       "      <td>0.553439</td>\n",
       "    </tr>\n",
       "    <tr>\n",
       "      <th>6</th>\n",
       "      <td>1.318152</td>\n",
       "      <td>-0.469305</td>\n",
       "      <td>0.675554</td>\n",
       "      <td>-1.817027</td>\n",
       "    </tr>\n",
       "    <tr>\n",
       "      <th>7</th>\n",
       "      <td>-0.183109</td>\n",
       "      <td>1.058969</td>\n",
       "      <td>-0.397840</td>\n",
       "      <td>0.337438</td>\n",
       "    </tr>\n",
       "    <tr>\n",
       "      <th>8</th>\n",
       "      <td>1.047579</td>\n",
       "      <td>1.045938</td>\n",
       "      <td>0.863717</td>\n",
       "      <td>-0.122092</td>\n",
       "    </tr>\n",
       "    <tr>\n",
       "      <th>9</th>\n",
       "      <td>0.124713</td>\n",
       "      <td>-0.322795</td>\n",
       "      <td>0.841675</td>\n",
       "      <td>2.390961</td>\n",
       "    </tr>\n",
       "  </tbody>\n",
       "</table>\n",
       "</div>"
      ],
      "text/plain": [
       "       Col1      Col2      Col3      Col4\n",
       "0  0.471435 -1.190976  1.432707 -0.312652\n",
       "1 -0.720589  0.887163  0.859588 -0.636524\n",
       "2  0.015696 -2.242685  1.150036  0.991946\n",
       "3  0.953324 -2.021255 -0.334077  0.002118\n",
       "4  0.405453  0.289092  1.321158 -1.546906\n",
       "5 -0.202646 -0.655969  0.193421  0.553439\n",
       "6  1.318152 -0.469305  0.675554 -1.817027\n",
       "7 -0.183109  1.058969 -0.397840  0.337438\n",
       "8  1.047579  1.045938  0.863717 -0.122092\n",
       "9  0.124713 -0.322795  0.841675  2.390961"
      ]
     },
     "execution_count": 11,
     "metadata": {},
     "output_type": "execute_result"
    }
   ],
   "source": [
    "np.random.seed(1234)\n",
    "df1 = pd.DataFrame(np.random.randn(10,4), columns=['Col1', 'Col2', 'Col3', 'Col4'])\n",
    "df1\n",
    "# boxplot = df.boxplot(column=['Col1', 'Col2', 'Col3'])"
   ]
  },
  {
   "cell_type": "code",
   "execution_count": 40,
   "metadata": {},
   "outputs": [
    {
     "data": {
      "image/png": "[encoded data removed]",
      "text/plain": [
       "<Figure size 432x288 with 1 Axes>"
      ]
     },
     "metadata": {
      "needs_background": "light"
     },
     "output_type": "display_data"
    }
   ],
   "source": [
    "array = [[3, 4, 2, 2, 2, 2], [4, 5,  2, 4, 3, 3], [5, 5, 5, 5, 5, 5], [6, 6, 5, 5, 6, 5], [6, 6, 6, 5, 6, 6], [7, 7, 6, 6, 7, 6], [7, 7, 6, 7, 7, 7], [9, 9, 11, 10, 8, 11]]\n",
    "df = pd.DataFrame(array, columns = ['x1','x2', 'x3', 'x4', 'x5', 'x6'])\n",
    "boxplot = df.boxplot(column = ['x1','x2', 'x3', 'x4', 'x5', 'x6'])"
   ]
  },
  {
   "cell_type": "code",
   "execution_count": null,
   "metadata": {},
   "outputs": [],
   "source": []
  }
 ],
 "metadata": {
  "kernelspec": {
   "display_name": "Python 3",
   "language": "python",
   "name": "python3"
  },
  "language_info": {
   "codemirror_mode": {
    "name": "ipython",
    "version": 3
   },
   "file_extension": ".py",
   "mimetype": "text/x-python",
   "name": "python",
   "nbconvert_exporter": "python",
   "pygments_lexer": "ipython3",
   "version": "3.7.3"
  }
 },
 "nbformat": 4,
 "nbformat_minor": 2
}
