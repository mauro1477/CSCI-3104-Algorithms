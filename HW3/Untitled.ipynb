{
 "cells": [
  {
   "cell_type": "code",
   "execution_count": null,
   "metadata": {},
   "outputs": [],
   "source": [
    "\n",
    "def get_change(n,v, r):\n",
    "    d = []\n",
    "    d = 1\n",
    "    while n > 0:\n",
    "        k = r\n",
    "        while k > 0 and v[k - 1] > n:\n",
    "            k = k + 1\n",
    "        if k <= 0:\n",
    "            return \"no solution\"\n",
    "        else:\n",
    "                n = n - v[k- 1]\n",
    "    return d\n",
    "            \n",
    "\n",
    "\n",
    "get_change(10,[-25,-10,-5],3)"
   ]
  },
  {
   "cell_type": "code",
   "execution_count": 1,
   "metadata": {},
   "outputs": [
    {
     "name": "stdout",
     "output_type": "stream",
     "text": [
      "Following is minimal number of change for 93 : 50 20 20 2 1 "
     ]
    }
   ],
   "source": [
    "# Python 3 program to find minimum  \n",
    "# number of denominations \n",
    "  \n",
    "def findMin(V): \n",
    "      \n",
    "    # All denominations of Indian Currency \n",
    "    deno = [1, 2, 5, 10, 20, 50,  \n",
    "            100, 500, 1000] \n",
    "    n = len(deno) \n",
    "      \n",
    "    # Initialize Result \n",
    "    ans = [] \n",
    "  \n",
    "    # Traverse through all denomination \n",
    "    i = n - 1\n",
    "    while(i >= 0): \n",
    "          \n",
    "        # Find denominations \n",
    "        while (V >= deno[i]): \n",
    "            V -= deno[i] \n",
    "            ans.append(deno[i]) \n",
    "  \n",
    "        i -= 1\n",
    "  \n",
    "    # Print result \n",
    "    for i in range(len(ans)): \n",
    "        print(ans[i], end = \" \") \n",
    "  \n",
    "# Driver Code \n",
    "if __name__ == '__main__': \n",
    "    n = 93\n",
    "    print(\"Following is minimal number\", \n",
    "          \"of change for\", n, \": \", end = \"\") \n",
    "    findMin(n) \n",
    "      \n",
    "# This code is contributed by \n",
    "# Surendra_Gangwar "
   ]
  },
  {
   "cell_type": "code",
   "execution_count": null,
   "metadata": {},
   "outputs": [],
   "source": []
  }
 ],
 "metadata": {
  "kernelspec": {
   "display_name": "Python 3",
   "language": "python",
   "name": "python3"
  },
  "language_info": {
   "codemirror_mode": {
    "name": "ipython",
    "version": 3
   },
   "file_extension": ".py",
   "mimetype": "text/x-python",
   "name": "python",
   "nbconvert_exporter": "python",
   "pygments_lexer": "ipython3",
   "version": "3.7.3"
  }
 },
 "nbformat": 4,
 "nbformat_minor": 2
}
