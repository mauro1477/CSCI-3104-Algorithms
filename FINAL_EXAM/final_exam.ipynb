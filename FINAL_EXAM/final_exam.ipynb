{
 "cells": [
  {
   "cell_type": "code",
   "execution_count": 12,
   "metadata": {},
   "outputs": [
    {
     "name": "stdout",
     "output_type": "stream",
     "text": [
      "12\n"
     ]
    }
   ],
   "source": [
    "def f(A, k):\n",
    "    B = [[0 for x in range(k)] for y in range(k)] \n",
    "    if k == 0: # base case: No items\n",
    "        return None\n",
    "    for  index in range(0, k):\n",
    "        i = 0 #Keep track of out index \n",
    "        j = index #Keep track of inner index \n",
    "        while j < k: #while we have not reached the end of the array\n",
    "            if ((i + 2) <= j):\n",
    "                a = B[i + 2][j] #store in Matrix\n",
    "            else:\n",
    "                a = 0 \n",
    "            if ((i + 1) <= (j - 1)):\n",
    "                b = B[i + 1][j - 1] #store in Matrix\n",
    "            else:\n",
    "                b = 0\n",
    "            if i <= (j - 2):\n",
    "                c = B[i][j-2] #store in Matrix\n",
    "            else:\n",
    "                c = 0\n",
    "            B[i][j] = max(A[i] + min(a,b), A[j] + min(b,c))#find the max value with libary function\n",
    "            i = i + 1 # move index i \n",
    "            j = j + 1 # move index j\n",
    "    return B[0][k-1] # return max value\n",
    "\n",
    "array = [1,2,3,4,5,6]\n",
    "n = len(array)\n",
    "D = f(array,n)\n",
    "print(D)"
   ]
  },
  {
   "cell_type": "code",
   "execution_count": 64,
   "metadata": {},
   "outputs": [
    {
     "name": "stdout",
     "output_type": "stream",
     "text": [
      "[[0, 0, 0, 0], [0, 0, 0, 0], [0, 0, 0, 0], [0, 0, 0, 0]]\n",
      "43\n"
     ]
    }
   ],
   "source": [
    "T = [22, 43, 10,20]\n",
    "# for r in T:\n",
    "#     for c in r:\n",
    "C = [[0,0,0,0],[0,0,0,0],[0,0,0,0],[0,0,0,0]]\n",
    "print(C)\n",
    "i = max(T[0] + min(0, 0), T[1] + min(0, 0))\n",
    "# C[len(T)][len(T)]\n",
    "\n",
    "# A[0][0] = i\n",
    "print(A[0][0])\n",
    "# n = len(A)\n",
    "# for  i in range(0, n):\n",
    "#     for j in range(0, n):\n",
    "#         C[i][j] = \n",
    "        \n",
    "\n",
    "# largest_number = max(1,2);\n",
    "\n",
    "# print(\"The largest number is:\", largest_number)"
   ]
  },
  {
   "cell_type": "code",
   "execution_count": 23,
   "metadata": {},
   "outputs": [
    {
     "name": "stdout",
     "output_type": "stream",
     "text": [
      "3\n"
     ]
    }
   ],
   "source": [
    "def f(A):\n",
    "    maxOverlap = 0 # variable to store the maximum\n",
    "    count = 0     \n",
    "    B = [] # store start time and end time\n",
    "    for i in range(len(A)):# store start and end times into array B\n",
    "        B.append([A[i][0], 'start'])\n",
    "        B.append([A[i][1], 'end'])\n",
    "    B = Randomized_Quicksort(B)  # sort the B array with Randomized quicksort to get avg nlog(n)\n",
    "    for i in range(len(B)): # count number of overlaps\n",
    "        if (B[i][1] == 'start'):# we increase count if start occur it means a new range start added so\n",
    "            count = count + 1\n",
    "        if (B[i][1] == 'end'): # we decrease count if end occur it means a range is ended\n",
    "            count = count - 1\n",
    "        maxOverlap = max(maxOverlap, count)#updating the value \n",
    "    return maxOverlap\n",
    "array = [ (2, 10), (9,11), (15, 18), (3, 4), (17, 19), (5, 13)]\n",
    "C = f(array)\n",
    "print(C)"
   ]
  },
  {
   "cell_type": "code",
   "execution_count": null,
   "metadata": {},
   "outputs": [],
   "source": []
  }
 ],
 "metadata": {
  "kernelspec": {
   "display_name": "Python 3",
   "language": "python",
   "name": "python3"
  },
  "language_info": {
   "codemirror_mode": {
    "name": "ipython",
    "version": 3
   },
   "file_extension": ".py",
   "mimetype": "text/x-python",
   "name": "python",
   "nbconvert_exporter": "python",
   "pygments_lexer": "ipython3",
   "version": "3.7.3"
  }
 },
 "nbformat": 4,
 "nbformat_minor": 2
}
